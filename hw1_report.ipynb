{
  "cells": [
    {
      "cell_type": "markdown",
      "metadata": {
        "id": "view-in-github",
        "colab_type": "text"
      },
      "source": [
        "<a href=\"https://colab.research.google.com/github/andrechen666/NTHU_2024_DLBOI_HW/blob/Main/hw1_report.ipynb\" target=\"_parent\"><img src=\"https://colab.research.google.com/assets/colab-badge.svg\" alt=\"Open In Colab\"/></a>"
      ]
    },
    {
      "cell_type": "markdown",
      "metadata": {
        "id": "uYBqFviS2vDc"
      },
      "source": [
        "# Loop"
      ]
    },
    {
      "cell_type": "code",
      "execution_count": null,
      "metadata": {
        "colab": {
          "base_uri": "https://localhost:8080/"
        },
        "id": "t9_gRP302zEw",
        "outputId": "ac07efd9-fca1-48d9-856d-ebf50a8ccda6"
      },
      "outputs": [
        {
          "name": "stdout",
          "output_type": "stream",
          "text": [
            "1\n",
            "4\n",
            "9\n",
            "16\n",
            "25\n",
            "36\n",
            "49\n",
            "64\n",
            "81\n",
            "100\n"
          ]
        }
      ],
      "source": [
        "# Print square numbers from 1-10 印出 1-10的平方數\n",
        "n=[1,2,3,4,5,6,7,8,9,10]\n",
        "for x in n:\n",
        "  print(x**2)"
      ]
    },
    {
      "cell_type": "code",
      "execution_count": null,
      "metadata": {
        "colab": {
          "base_uri": "https://localhost:8080/"
        },
        "id": "BmdQRoy021dZ",
        "outputId": "c7fc5e22-68bd-439b-9ee3-94ed542e30e5"
      },
      "outputs": [
        {
          "name": "stdout",
          "output_type": "stream",
          "text": [
            "1 x 1 = 1\t1 x 2 = 2\t1 x 3 = 3\t1 x 4 = 4\t1 x 5 = 5\t1 x 6 = 6\t1 x 7 = 7\t1 x 8 = 8\t1 x 9 = 9\t\n",
            "2 x 1 = 2\t2 x 2 = 4\t2 x 3 = 6\t2 x 4 = 8\t2 x 5 = 10\t2 x 6 = 12\t2 x 7 = 14\t2 x 8 = 16\t2 x 9 = 18\t\n",
            "3 x 1 = 3\t3 x 2 = 6\t3 x 3 = 9\t3 x 4 = 12\t3 x 5 = 15\t3 x 6 = 18\t3 x 7 = 21\t3 x 8 = 24\t3 x 9 = 27\t\n",
            "4 x 1 = 4\t4 x 2 = 8\t4 x 3 = 12\t4 x 4 = 16\t4 x 5 = 20\t4 x 6 = 24\t4 x 7 = 28\t4 x 8 = 32\t4 x 9 = 36\t\n",
            "5 x 1 = 5\t5 x 2 = 10\t5 x 3 = 15\t5 x 4 = 20\t5 x 5 = 25\t5 x 6 = 30\t5 x 7 = 35\t5 x 8 = 40\t5 x 9 = 45\t\n",
            "6 x 1 = 6\t6 x 2 = 12\t6 x 3 = 18\t6 x 4 = 24\t6 x 5 = 30\t6 x 6 = 36\t6 x 7 = 42\t6 x 8 = 48\t6 x 9 = 54\t\n",
            "7 x 1 = 7\t7 x 2 = 14\t7 x 3 = 21\t7 x 4 = 28\t7 x 5 = 35\t7 x 6 = 42\t7 x 7 = 49\t7 x 8 = 56\t7 x 9 = 63\t\n",
            "8 x 1 = 8\t8 x 2 = 16\t8 x 3 = 24\t8 x 4 = 32\t8 x 5 = 40\t8 x 6 = 48\t8 x 7 = 56\t8 x 8 = 64\t8 x 9 = 72\t\n",
            "9 x 1 = 9\t9 x 2 = 18\t9 x 3 = 27\t9 x 4 = 36\t9 x 5 = 45\t9 x 6 = 54\t9 x 7 = 63\t9 x 8 = 72\t9 x 9 = 81\t\n"
          ]
        }
      ],
      "source": [
        "# Print 9*9 multiplication table 列印9*9乘法表\n",
        "x = [1,2,3,4,5,6,7,8,9]\n",
        "y = [1,2,3,4,5,6,7,8,9]\n",
        "for m in x:\n",
        "  for n in y:\n",
        "    print(m,'x',n,'=',m*n,end='\\t')\n",
        "  print()"
      ]
    },
    {
      "cell_type": "code",
      "execution_count": null,
      "metadata": {
        "colab": {
          "base_uri": "https://localhost:8080/"
        },
        "id": "kREubzqkR5hT",
        "outputId": "4a828c78-eaa1-4e7f-fa7f-e668cd25a2ff"
      },
      "outputs": [
        {
          "name": "stdout",
          "output_type": "stream",
          "text": [
            "9 x 9 = 81\t9 x 8 = 72\t9 x 7 = 63\t9 x 6 = 54\t9 x 5 = 45\t9 x 4 = 36\t9 x 3 = 27\t9 x 2 = 18\t9 x 1 = 9\t\n",
            "8 x 9 = 72\t8 x 8 = 64\t8 x 7 = 56\t8 x 6 = 48\t8 x 5 = 40\t8 x 4 = 32\t8 x 3 = 24\t8 x 2 = 16\t8 x 1 = 8\t\n",
            "7 x 9 = 63\t7 x 8 = 56\t7 x 7 = 49\t7 x 6 = 42\t7 x 5 = 35\t7 x 4 = 28\t7 x 3 = 21\t7 x 2 = 14\t7 x 1 = 7\t\n",
            "6 x 9 = 54\t6 x 8 = 48\t6 x 7 = 42\t6 x 6 = 36\t6 x 5 = 30\t6 x 4 = 24\t6 x 3 = 18\t6 x 2 = 12\t6 x 1 = 6\t\n",
            "5 x 9 = 45\t5 x 8 = 40\t5 x 7 = 35\t5 x 6 = 30\t5 x 5 = 25\t5 x 4 = 20\t5 x 3 = 15\t5 x 2 = 10\t5 x 1 = 5\t\n",
            "4 x 9 = 36\t4 x 8 = 32\t4 x 7 = 28\t4 x 6 = 24\t4 x 5 = 20\t4 x 4 = 16\t4 x 3 = 12\t4 x 2 = 8\t4 x 1 = 4\t\n",
            "3 x 9 = 27\t3 x 8 = 24\t3 x 7 = 21\t3 x 6 = 18\t3 x 5 = 15\t3 x 4 = 12\t3 x 3 = 9\t3 x 2 = 6\t3 x 1 = 3\t\n",
            "2 x 9 = 18\t2 x 8 = 16\t2 x 7 = 14\t2 x 6 = 12\t2 x 5 = 10\t2 x 4 = 8\t2 x 3 = 6\t2 x 2 = 4\t2 x 1 = 2\t\n",
            "1 x 9 = 9\t1 x 8 = 8\t1 x 7 = 7\t1 x 6 = 6\t1 x 5 = 5\t1 x 4 = 4\t1 x 3 = 3\t1 x 2 = 2\t1 x 1 = 1\t\n"
          ]
        }
      ],
      "source": [
        "# Transpose the 9*9 multiplication table 轉置9*9乘法表\n",
        "x = [9,8,7,6,5,4,3,2,1]\n",
        "y = [9,8,7,6,5,4,3,2,1]\n",
        "for i in x:\n",
        "    for j in y:\n",
        "      print(i,'x',j,'=',i*j,end=\"\\t\")\n",
        "    print()"
      ]
    },
    {
      "cell_type": "code",
      "execution_count": null,
      "metadata": {
        "colab": {
          "base_uri": "https://localhost:8080/"
        },
        "id": "OdRJWkcX236g",
        "outputId": "eba12e1a-1697-479f-cf91-2c9641519cbd"
      },
      "outputs": [
        {
          "output_type": "stream",
          "name": "stdout",
          "text": [
            "Please enter your ID:roof\n",
            "Please enter your password:1345\n",
            "Your ID or password number has error\n",
            "Please enter your ID:rooh\n",
            "Please enter your password:1356\n",
            "Your ID or password number has error\n",
            "Please enter your ID:rood\n",
            "Please enter your password:2345\n",
            "Your ID or password number has error\n",
            "Login unsuccess!\n"
          ]
        }
      ],
      "source": [
        "# User account password check, so that the user can enter the account password 3 times, the id is root, the password is 1234\n",
        "# 使用者帳號密碼檢查，讓使用者可以輸入3次帳號密碼，ID為root，密碼為1234\n",
        "n = 1\n",
        "while n <= 3:\n",
        "  id = str(input('Please enter your ID:'))\n",
        "  pw = str(input('Please enter your password:'))\n",
        "  if id != str('root') or pw != str(1234):\n",
        "    print('Your ID or password number has error')\n",
        "    n += 1\n",
        "  elif id == str('root') and pw == str(1234):\n",
        "    print('Login success!')\n",
        "    break\n",
        "else:\n",
        "  print('Login unsuccess!')"
      ]
    },
    {
      "cell_type": "markdown",
      "metadata": {
        "id": "bPO4emuqhse3"
      },
      "source": [
        "# Function"
      ]
    },
    {
      "cell_type": "code",
      "execution_count": null,
      "metadata": {
        "colab": {
          "base_uri": "https://localhost:8080/"
        },
        "id": "_pX-D2bphwYL",
        "outputId": "feee4809-f0ef-4825-8657-c76bd0e15d28"
      },
      "outputs": [
        {
          "name": "stdout",
          "output_type": "stream",
          "text": [
            "Enter a number:5\n"
          ]
        }
      ],
      "source": [
        "# Write a function to check whether it is even 寫一個函式判斷是否為偶數\n",
        "i = int(input('Enter a number:'))\n",
        "if i % 2 == 0:\n",
        "  print('True')"
      ]
    },
    {
      "cell_type": "code",
      "execution_count": null,
      "metadata": {
        "colab": {
          "base_uri": "https://localhost:8080/"
        },
        "id": "yzeaaVFFWjTf",
        "outputId": "d737249a-6dcf-4579-a766-d6fac5dd5c96"
      },
      "outputs": [
        {
          "output_type": "stream",
          "name": "stdout",
          "text": [
            "Enter a number:10\n",
            "even number\n"
          ]
        }
      ],
      "source": [
        "# Write a function to check whether it is even or odd 寫一個函式判斷該數為偶數或奇數\n",
        "i = float(input('Enter a number:'))\n",
        "if i % 2 == 0:\n",
        "  print('even number')\n",
        "elif i % 2 ==1:\n",
        "  print('odd number')\n",
        "else:\n",
        "  print('not an integer')"
      ]
    },
    {
      "cell_type": "code",
      "execution_count": null,
      "metadata": {
        "colab": {
          "base_uri": "https://localhost:8080/"
        },
        "id": "LA7uy4DYkqZP",
        "outputId": "2931030a-4848-47d9-fe10-962b00f61527"
      },
      "outputs": [
        {
          "output_type": "stream",
          "name": "stdout",
          "text": [
            "Enter a number:28\n",
            "28 is not a prime number\n"
          ]
        }
      ],
      "source": [
        "# Write a function to check whether it is prime number 寫一個函式判斷是否為質數\n",
        "# 定義：大於1的自然數中，除了1和該數自身外，無法被其他自然數整除的數\n",
        "m = int(input('Enter a number:'))\n",
        "if m <= 1 :\n",
        "  print(int(m),'is not a prime number')\n",
        "for n in range(2 , m-1):\n",
        "  if m % n == 0:\n",
        "    print(int(m),'is not a prime number')\n",
        "    break\n",
        "else:\n",
        "  print(int(m),'is a prime number')"
      ]
    },
    {
      "cell_type": "markdown",
      "metadata": {
        "id": "ehjQinHLbZw1"
      },
      "source": [
        "# Class"
      ]
    },
    {
      "cell_type": "code",
      "execution_count": null,
      "metadata": {
        "id": "YEVoXGxybjCZ"
      },
      "outputs": [],
      "source": [
        "# Create a class named BankAccount to simulate a simple bank account. The class should have the following features:\n",
        "# Attributes:\n",
        "#   account_holder (the name of the account holder)\n",
        "#   balance (the balance, default is 0)\n",
        "\n",
        "# Methods:\n",
        "#   deposit(amount): Adds the specified amount to the balance. The amount should be positive. If the amount is not positive, print an appropriate message.\n",
        "#   withdraw(amount): Deducts the specified amount from the balance. The amount should be positive and must not exceed the current balance. If the amount is invalid or exceeds the balance, print an appropriate message.\n",
        "#   get_balance(): Returns the current balance of the account.\n",
        "\n",
        "# Test Cases:\n",
        "#   Create an account with the account holder name \"John Doe\" and an initial balance of 100.\n",
        "#   Deposit 50.\n",
        "#   Attempt to withdraw 200 (should display an error message).\n",
        "#   Withdraw 30.\n",
        "#   Print the final balance."
      ]
    },
    {
      "cell_type": "code",
      "execution_count": null,
      "metadata": {
        "id": "nuVVTbqbdYQ3",
        "colab": {
          "base_uri": "https://localhost:8080/"
        },
        "outputId": "11db9d05-f734-4975-bfdf-777fef66d553"
      },
      "outputs": [
        {
          "output_type": "stream",
          "name": "stdout",
          "text": [
            "Insufficient funds for this withdrawal\n",
            "Final balance: 120\n"
          ]
        }
      ],
      "source": [
        "class BankAccount:\n",
        "  def __init__(self, account_holder, balance):\n",
        "    self.account_holder = account_holder\n",
        "    self.balance = balance\n",
        "\n",
        "  def deposit(self, amount):\n",
        "    if amount > 0:\n",
        "      self.balance += amount\n",
        "    else:\n",
        "      print('Deposit amount must be positive')\n",
        "\n",
        "  def withdraw(self, amount):\n",
        "    if amount > 0:\n",
        "      if amount <= self.balance:\n",
        "        self.balance -= amount\n",
        "      else:\n",
        "        print('Insufficient funds for this withdrawal')\n",
        "    else:\n",
        "      print('Withdrawal amount must be positive')\n",
        "\n",
        "  def get_balance(self):\n",
        "    return self.balance\n",
        "\n",
        "#Test\n",
        "p1 = BankAccount('John Doe',100)\n",
        "p1.deposit(50)\n",
        "p1.withdraw(200)\n",
        "p1.withdraw(30)\n",
        "print(f'Final balance: {p1.get_balance()}')"
      ]
    }
  ],
  "metadata": {
    "accelerator": "TPU",
    "colab": {
      "gpuType": "V28",
      "provenance": [],
      "include_colab_link": true
    },
    "kernelspec": {
      "display_name": "Python 3",
      "name": "python3"
    },
    "language_info": {
      "name": "python"
    }
  },
  "nbformat": 4,
  "nbformat_minor": 0
}